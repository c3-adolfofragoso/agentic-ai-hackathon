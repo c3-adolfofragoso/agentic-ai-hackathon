{
 "cells": [
  {
   "cell_type": "markdown",
   "id": "8c1ae8e2-221c-4006-8a25-b78ad95ca230",
   "metadata": {},
   "source": [
    "# Embedding Toolkit Tutorial Notebook"
   ]
  },
  {
   "cell_type": "markdown",
   "id": "d8905021",
   "metadata": {},
   "source": [
    " __Run this notebook on the runtime `py-embedding`.__"
   ]
  },
  {
   "cell_type": "code",
   "execution_count": 1,
   "id": "f9f11ce9-f4c6-4eeb-9dbd-6aa3922bb6a0",
   "metadata": {
    "execution": {
     "iopub.execute_input": "2024-01-02T18:33:15.137396Z",
     "iopub.status.busy": "2024-01-02T18:33:15.137007Z",
     "iopub.status.idle": "2024-01-02T18:33:15.670349Z",
     "shell.execute_reply": "2024-01-02T18:33:15.669708Z",
     "shell.execute_reply.started": "2024-01-02T18:33:15.137376Z"
    },
    "tags": []
   },
   "outputs": [],
   "source": [
    "import random\n",
    "import pandas as pd\n",
    "import numpy as np\n",
    "from sklearn.datasets import fetch_20newsgroups"
   ]
  },
  {
   "cell_type": "markdown",
   "id": "c34db5ad-d5cd-4064-b3d8-d5720db10e3e",
   "metadata": {},
   "source": [
    "## Notebook Content Overview"
   ]
  },
  {
   "cell_type": "markdown",
   "id": "9ac35ecc-e49a-4cce-82ea-449e6fb080bc",
   "metadata": {
    "execution": {
     "iopub.execute_input": "2023-12-20T23:33:11.984720Z",
     "iopub.status.busy": "2023-12-20T23:33:11.984135Z",
     "iopub.status.idle": "2023-12-20T23:33:11.991235Z",
     "shell.execute_reply": "2023-12-20T23:33:11.990121Z",
     "shell.execute_reply.started": "2023-12-20T23:33:11.984694Z"
    },
    "tags": []
   },
   "source": [
    "0. [**Background**](#Background): Introduction to the Embedding Toolkit tutorial notebook.\n",
    "\n",
    "1. [**Load Sample Data**](#Load-Sample-Data): Loads the sample data required to run this notebook.\n",
    "\n",
    "2. [**Example Embedding Extraction Pipe**](#Example-Embedding-Extraction-Pipe): The `SentenceBERT` pipe processes text and generates embeddings for the sample data.\n",
    "\n",
    "3. [**Use a Different Pipe**](#Use-a-Different-Pipe): The `BERT` pipe processes text and generates embeddings for the sample data.\n"
   ]
  },
  {
   "cell_type": "markdown",
   "id": "159d1c9c-658a-45c6-a32a-ca45acef774b",
   "metadata": {
    "tags": []
   },
   "source": [
    "## 0. Background "
   ]
  },
  {
   "cell_type": "markdown",
   "id": "80b67118-aeb8-4d88-8af1-89eb49f3c4fc",
   "metadata": {},
   "source": [
    "This tutorial is designed to walk you through the process of using the __C3 AI Embedding Toolkit__ to generate embeddings from text data. In this tutorial notebook, we will examine a couple of embedding extraction pipes that generate embeddings for the loaded sample data.\n",
    "\n",
    "The first example utilizes the `Embedding.Extraction.SentenceBertPipe` pipe, while the second example showcases the usage of the `Embedding.Extraction.BertPipe` pipe.\n",
    "\n",
    "Running this tutorial notebook end-to-end is expected to take approximately 5 minutes. "
   ]
  },
  {
   "cell_type": "markdown",
   "id": "01f1ecad-dba1-43db-b8c2-0d1248240777",
   "metadata": {
    "tags": []
   },
   "source": [
    "## 1. Load Sample Data"
   ]
  },
  {
   "cell_type": "markdown",
   "id": "954b8518-5e2a-4cd0-a37a-a91d6817ed64",
   "metadata": {},
   "source": [
    "We will be loading sample data from `scikit-learn.datasets` called `Twenty Newsgroups`. For more information, refer to the dataset [here.](https://scikit-learn.org/stable/tutorial/text_analytics/working_with_text_data.html) \n",
    "\n",
    "We will randomly sample 20 rows of text data to feed into the embedding extraction pipe."
   ]
  },
  {
   "cell_type": "code",
   "execution_count": 2,
   "id": "20510f6a-68b1-40de-83be-a2d01bbf65bb",
   "metadata": {
    "execution": {
     "iopub.execute_input": "2024-01-02T18:33:17.177648Z",
     "iopub.status.busy": "2024-01-02T18:33:17.176885Z",
     "iopub.status.idle": "2024-01-02T18:33:17.414954Z",
     "shell.execute_reply": "2024-01-02T18:33:17.414257Z",
     "shell.execute_reply.started": "2024-01-02T18:33:17.177621Z"
    },
    "tags": []
   },
   "outputs": [],
   "source": [
    "categories = [\"sci.space\"]  ## space category from the dataset\n",
    "twenty_train = fetch_20newsgroups(\n",
    "    subset=\"train\", categories=categories, shuffle=True, random_state=42\n",
    ")  ## fetch the dataset\n",
    "sample_dataset = random.sample(twenty_train[\"data\"], 20)  ## sample 20 rows"
   ]
  },
  {
   "cell_type": "markdown",
   "id": "e2d4d58b-cc39-43cd-bf1e-f6dd2c9b7ffe",
   "metadata": {},
   "source": [
    "Transform the list of text into a DataFrame and then convert it `c3.Data` to feed it into the Embedding Extraction Pipe."
   ]
  },
  {
   "cell_type": "code",
   "execution_count": 3,
   "id": "bb54fb85-2dda-42d7-92e2-943d7ef97559",
   "metadata": {
    "execution": {
     "iopub.execute_input": "2024-01-02T18:33:17.744272Z",
     "iopub.status.busy": "2024-01-02T18:33:17.743603Z",
     "iopub.status.idle": "2024-01-02T18:33:23.709465Z",
     "shell.execute_reply": "2024-01-02T18:33:23.708579Z",
     "shell.execute_reply.started": "2024-01-02T18:33:17.744245Z"
    },
    "tags": []
   },
   "outputs": [
    {
     "data": {
      "text/html": [
       "<div>\n",
       "<style scoped>\n",
       "    .dataframe tbody tr th:only-of-type {\n",
       "        vertical-align: middle;\n",
       "    }\n",
       "\n",
       "    .dataframe tbody tr th {\n",
       "        vertical-align: top;\n",
       "    }\n",
       "\n",
       "    .dataframe thead th {\n",
       "        text-align: right;\n",
       "    }\n",
       "</style>\n",
       "<table border=\"1\" class=\"dataframe\">\n",
       "  <thead>\n",
       "    <tr style=\"text-align: right;\">\n",
       "      <th></th>\n",
       "      <th>subject</th>\n",
       "      <th>textString</th>\n",
       "    </tr>\n",
       "  </thead>\n",
       "  <tbody>\n",
       "    <tr>\n",
       "      <th>0</th>\n",
       "      <td>par0</td>\n",
       "      <td>From: 18084TM@msu.edu (Tom)\\nSubject: Level 5?...</td>\n",
       "    </tr>\n",
       "    <tr>\n",
       "      <th>1</th>\n",
       "      <td>par1</td>\n",
       "      <td>From: dante@shakala.com (Charlie Prael)\\nSubje...</td>\n",
       "    </tr>\n",
       "    <tr>\n",
       "      <th>2</th>\n",
       "      <td>par2</td>\n",
       "      <td>From: henry@zoo.toronto.edu (Henry Spencer)\\nS...</td>\n",
       "    </tr>\n",
       "    <tr>\n",
       "      <th>3</th>\n",
       "      <td>par3</td>\n",
       "      <td>From: dbm0000@tm0006.lerc.nasa.gov (David B. M...</td>\n",
       "    </tr>\n",
       "    <tr>\n",
       "      <th>4</th>\n",
       "      <td>par4</td>\n",
       "      <td>From: baalke@kelvin.jpl.nasa.gov (Ron Baalke)\\...</td>\n",
       "    </tr>\n",
       "  </tbody>\n",
       "</table>\n",
       "</div>"
      ],
      "text/plain": [
       "  subject                                         textString\n",
       "0    par0  From: 18084TM@msu.edu (Tom)\\nSubject: Level 5?...\n",
       "1    par1  From: dante@shakala.com (Charlie Prael)\\nSubje...\n",
       "2    par2  From: henry@zoo.toronto.edu (Henry Spencer)\\nS...\n",
       "3    par3  From: dbm0000@tm0006.lerc.nasa.gov (David B. M...\n",
       "4    par4  From: baalke@kelvin.jpl.nasa.gov (Ron Baalke)\\..."
      ]
     },
     "execution_count": 3,
     "metadata": {},
     "output_type": "execute_result"
    }
   ],
   "source": [
    "paragraph_ids = [f\"par{i}\" for i in range(len(sample_dataset))]\n",
    "sample_data = c3.Data.from_pandas(pd.DataFrame({\"subject\": paragraph_ids, \"textString\": sample_dataset}))\n",
    "sample_data.head()"
   ]
  },
  {
   "cell_type": "markdown",
   "id": "63aa3759-0ef8-4a25-a0bc-e4757ca1342a",
   "metadata": {
    "tags": []
   },
   "source": [
    "## 2. Example Embedding Extraction Pipe "
   ]
  },
  {
   "cell_type": "markdown",
   "id": "712cc789-1fc2-45dc-b1bb-3447243481c3",
   "metadata": {},
   "source": [
    "### Load and train the pipe"
   ]
  },
  {
   "cell_type": "markdown",
   "id": "bac32fa6-fb9c-414e-ab44-ce8ffe82e07f",
   "metadata": {},
   "source": [
    "We will load one of the pre-trained language models `all-mpnet-base-v2` from the `SentenceBERT` models. Refer to the pre-trained sentence embedding models [here.](https://www.sbert.net/docs/pretrained_models.html#sentence-embedding-models/)\n",
    "\n",
    "If the GPU is setup on the environment, then the embedding extraction pipes are automatically configured to use GPU. Use of GPU/CPU is logged to OpenSearch.\n",
    "\n"
   ]
  },
  {
   "cell_type": "code",
   "execution_count": 4,
   "id": "f4a47e46-5302-4bff-8a16-0c9080678be9",
   "metadata": {
    "execution": {
     "iopub.execute_input": "2024-01-02T18:33:23.711146Z",
     "iopub.status.busy": "2024-01-02T18:33:23.710909Z",
     "iopub.status.idle": "2024-01-02T18:33:23.912790Z",
     "shell.execute_reply": "2024-01-02T18:33:23.912195Z",
     "shell.execute_reply.started": "2024-01-02T18:33:23.711127Z"
    },
    "tags": []
   },
   "outputs": [
    {
     "data": {
      "text/plain": [
       "{\n",
       "  \"type\" : \"Embedding.Extraction.SentenceBertPipe\",\n",
       "  \"name\" : \"GeneralEmbeddingExtraction\",\n",
       "  \"modelName\" : \"all-mpnet-base-v2\"\n",
       "}"
      ]
     },
     "execution_count": 4,
     "metadata": {},
     "output_type": "execute_result"
    }
   ],
   "source": [
    "embedding_extraction_pipe = c3.Embedding.Extraction.SentenceBertPipe(modelName=\"all-mpnet-base-v2\").withName(\n",
    "    \"GeneralEmbeddingExtraction\"\n",
    ")\n",
    "embedding_extraction_pipe"
   ]
  },
  {
   "cell_type": "code",
   "execution_count": 5,
   "id": "deb34e21-cbe7-488f-a0ea-9d394e889511",
   "metadata": {
    "execution": {
     "iopub.execute_input": "2024-01-02T18:33:23.913821Z",
     "iopub.status.busy": "2024-01-02T18:33:23.913614Z",
     "iopub.status.idle": "2024-01-02T18:34:00.185938Z",
     "shell.execute_reply": "2024-01-02T18:34:00.185208Z",
     "shell.execute_reply.started": "2024-01-02T18:33:23.913803Z"
    },
    "tags": []
   },
   "outputs": [
    {
     "data": {
      "text/plain": [
       "{\n",
       "  \"type\" : \"Embedding.Extraction.SentenceBertPipe\",\n",
       "  \"id\" : \"371a5395-d71e-4528-8c2b-a5c9ea651fd0\",\n",
       "  \"name\" : \"GeneralEmbeddingExtraction_trained\",\n",
       "  \"meta\" : {\n",
       "    \"created\" : \"2024-01-02T18:34:00Z\",\n",
       "    \"updated\" : \"2024-01-02T18:34:00Z\",\n",
       "    \"timestamp\" : \"2024-01-02T18:34:00Z\"\n",
       "  },\n",
       "  \"version\" : 1,\n",
       "  \"typeIdent\" : \"ATOM:EMBEP:EESBP\"\n",
       "}"
      ]
     },
     "execution_count": 5,
     "metadata": {},
     "output_type": "execute_result"
    }
   ],
   "source": [
    "trained_embedding_extraction_pipe = embedding_extraction_pipe.train().result()\n",
    "trained_embedding_extraction_pipe"
   ]
  },
  {
   "cell_type": "markdown",
   "id": "b97e9c0f-5a1c-4a09-a862-dc4678a374a3",
   "metadata": {},
   "source": [
    "### Generate embeddings"
   ]
  },
  {
   "cell_type": "markdown",
   "id": "9ad5eeaa-fc44-4a17-aa3f-bf73d4aee787",
   "metadata": {},
   "source": [
    "Run `process` on the trained pipe to generate embeddings."
   ]
  },
  {
   "cell_type": "code",
   "execution_count": 6,
   "id": "05d41039-27c5-466d-a1ab-4c89896ba878",
   "metadata": {
    "execution": {
     "iopub.execute_input": "2024-01-02T18:34:00.187802Z",
     "iopub.status.busy": "2024-01-02T18:34:00.187560Z",
     "iopub.status.idle": "2024-01-02T18:35:28.312705Z",
     "shell.execute_reply": "2024-01-02T18:35:28.312110Z",
     "shell.execute_reply.started": "2024-01-02T18:34:00.187784Z"
    },
    "tags": []
   },
   "outputs": [
    {
     "data": {
      "text/html": [
       "<div>\n",
       "<style scoped>\n",
       "    .dataframe tbody tr th:only-of-type {\n",
       "        vertical-align: middle;\n",
       "    }\n",
       "\n",
       "    .dataframe tbody tr th {\n",
       "        vertical-align: top;\n",
       "    }\n",
       "\n",
       "    .dataframe thead th {\n",
       "        text-align: right;\n",
       "    }\n",
       "</style>\n",
       "<table border=\"1\" class=\"dataframe\">\n",
       "  <thead>\n",
       "    <tr style=\"text-align: right;\">\n",
       "      <th></th>\n",
       "      <th>textString</th>\n",
       "      <th>embedding</th>\n",
       "    </tr>\n",
       "    <tr>\n",
       "      <th>subject</th>\n",
       "      <th></th>\n",
       "      <th></th>\n",
       "    </tr>\n",
       "  </thead>\n",
       "  <tbody>\n",
       "    <tr>\n",
       "      <th>par0</th>\n",
       "      <td>From: 18084TM@msu.edu (Tom)\\nSubject: Level 5?...</td>\n",
       "      <td>[0.029849377, 0.005736005, -0.0009050925, 0.00...</td>\n",
       "    </tr>\n",
       "    <tr>\n",
       "      <th>par1</th>\n",
       "      <td>From: dante@shakala.com (Charlie Prael)\\nSubje...</td>\n",
       "      <td>[0.027563378, 0.0036168434, 0.0041022715, 0.04...</td>\n",
       "    </tr>\n",
       "    <tr>\n",
       "      <th>par2</th>\n",
       "      <td>From: henry@zoo.toronto.edu (Henry Spencer)\\nS...</td>\n",
       "      <td>[0.04398752, 0.10623252, 0.060237866, 0.017894...</td>\n",
       "    </tr>\n",
       "    <tr>\n",
       "      <th>par3</th>\n",
       "      <td>From: dbm0000@tm0006.lerc.nasa.gov (David B. M...</td>\n",
       "      <td>[0.02024305, 0.05232053, 0.026834602, 0.031365...</td>\n",
       "    </tr>\n",
       "    <tr>\n",
       "      <th>par4</th>\n",
       "      <td>From: baalke@kelvin.jpl.nasa.gov (Ron Baalke)\\...</td>\n",
       "      <td>[0.08486572, -0.031874884, 0.012951204, -0.008...</td>\n",
       "    </tr>\n",
       "  </tbody>\n",
       "</table>\n",
       "</div>"
      ],
      "text/plain": [
       "                                                textString  \\\n",
       "subject                                                      \n",
       "par0     From: 18084TM@msu.edu (Tom)\\nSubject: Level 5?...   \n",
       "par1     From: dante@shakala.com (Charlie Prael)\\nSubje...   \n",
       "par2     From: henry@zoo.toronto.edu (Henry Spencer)\\nS...   \n",
       "par3     From: dbm0000@tm0006.lerc.nasa.gov (David B. M...   \n",
       "par4     From: baalke@kelvin.jpl.nasa.gov (Ron Baalke)\\...   \n",
       "\n",
       "                                                 embedding  \n",
       "subject                                                     \n",
       "par0     [0.029849377, 0.005736005, -0.0009050925, 0.00...  \n",
       "par1     [0.027563378, 0.0036168434, 0.0041022715, 0.04...  \n",
       "par2     [0.04398752, 0.10623252, 0.060237866, 0.017894...  \n",
       "par3     [0.02024305, 0.05232053, 0.026834602, 0.031365...  \n",
       "par4     [0.08486572, -0.031874884, 0.012951204, -0.008...  "
      ]
     },
     "execution_count": 6,
     "metadata": {},
     "output_type": "execute_result"
    }
   ],
   "source": [
    "embeddings = trained_embedding_extraction_pipe.process(\n",
    "    x=sample_data,\n",
    ").result()\n",
    "\n",
    "embeddings_df = embeddings.to_pandas()\n",
    "embeddings_df.head()"
   ]
  },
  {
   "cell_type": "markdown",
   "id": "606c6232-ada9-41f0-a858-4dfe54bf1b04",
   "metadata": {},
   "source": [
    "### Validate embeddings "
   ]
  },
  {
   "cell_type": "markdown",
   "id": "148bfd86-456f-4000-b584-bd24c2029da8",
   "metadata": {},
   "source": [
    "Use basic validation checks to check if the embeddings are generated correctly."
   ]
  },
  {
   "cell_type": "code",
   "execution_count": 7,
   "id": "a9b931a4-ea1b-4b4e-87d7-0f5e892e5000",
   "metadata": {
    "execution": {
     "iopub.execute_input": "2024-01-02T18:35:28.313700Z",
     "iopub.status.busy": "2024-01-02T18:35:28.313495Z",
     "iopub.status.idle": "2024-01-02T18:35:29.563115Z",
     "shell.execute_reply": "2024-01-02T18:35:29.562515Z",
     "shell.execute_reply.started": "2024-01-02T18:35:28.313683Z"
    },
    "tags": []
   },
   "outputs": [],
   "source": [
    "embeddings_df.index.name = None\n",
    "pd.testing.assert_index_equal(pd.Index(sample_data[\"subject\"]), embeddings_df.index)\n",
    "\n",
    "embedding_array = np.stack(list(embeddings_df[\"embedding\"]))\n",
    "num_dim = embedding_array.shape[1]\n",
    "assert (\n",
    "    num_dim == 768  # model dimension for all-mpnet-base-v2\n",
    "), f\"Result embedding dimension {num_dim} should be equal to expected model dimension {model_dimension}\"\n",
    "assert np.sum(embedding_array) != 0, \"Result embedding array should not be all zeros!\""
   ]
  },
  {
   "cell_type": "markdown",
   "id": "81f0f03a-3f5e-41b7-8cca-ac94e4d8f3d3",
   "metadata": {},
   "source": [
    "### Clean up the pipe"
   ]
  },
  {
   "cell_type": "markdown",
   "id": "0b36a89a-4069-4c32-96d4-0fde1dbb701d",
   "metadata": {},
   "source": [
    "Clean up (i.e. remove from db or delete from filesystem) any artifacts or dependencies related to this pipe."
   ]
  },
  {
   "cell_type": "code",
   "execution_count": 8,
   "id": "d8cd4097-5063-4800-a6ba-e094dca45f60",
   "metadata": {
    "execution": {
     "iopub.execute_input": "2024-01-02T18:35:29.564103Z",
     "iopub.status.busy": "2024-01-02T18:35:29.563903Z",
     "iopub.status.idle": "2024-01-02T18:35:30.503703Z",
     "shell.execute_reply": "2024-01-02T18:35:30.502973Z",
     "shell.execute_reply.started": "2024-01-02T18:35:29.564085Z"
    },
    "tags": []
   },
   "outputs": [],
   "source": [
    "trained_embedding_extraction_pipe.cleanUp()"
   ]
  },
  {
   "cell_type": "markdown",
   "id": "7e105d10-3c56-4384-a48a-0b2dc98a5241",
   "metadata": {
    "tags": []
   },
   "source": [
    "## 3. Use a Different Pipe"
   ]
  },
  {
   "cell_type": "markdown",
   "id": "9a6543f7-fc5a-46bb-b74a-b8ce1f09fa79",
   "metadata": {
    "execution": {
     "iopub.execute_input": "2023-12-21T00:43:32.557974Z",
     "iopub.status.busy": "2023-12-21T00:43:32.557170Z",
     "iopub.status.idle": "2023-12-21T00:43:32.562507Z",
     "shell.execute_reply": "2023-12-21T00:43:32.561729Z",
     "shell.execute_reply.started": "2023-12-21T00:43:32.557949Z"
    },
    "tags": []
   },
   "source": [
    "Instead of utilizing the `SentenceBERT` pipe, employ the `BERT` pipe (fine tuned `bert-base-uncased`)  as the embedding extraction pipe to generate embeddings.\n",
    "\n",
    "Please refer to the pre-trained `BERT` models from hugging face [here.](https://huggingface.co/models?other=bert)"
   ]
  },
  {
   "cell_type": "code",
   "execution_count": 9,
   "id": "01b4a7db-1630-47af-968b-89b2249374cf",
   "metadata": {
    "execution": {
     "iopub.execute_input": "2024-01-02T18:35:30.504670Z",
     "iopub.status.busy": "2024-01-02T18:35:30.504490Z",
     "iopub.status.idle": "2024-01-02T18:37:20.668581Z",
     "shell.execute_reply": "2024-01-02T18:37:20.667916Z",
     "shell.execute_reply.started": "2024-01-02T18:35:30.504653Z"
    },
    "tags": []
   },
   "outputs": [
    {
     "data": {
      "text/html": [
       "<div>\n",
       "<style scoped>\n",
       "    .dataframe tbody tr th:only-of-type {\n",
       "        vertical-align: middle;\n",
       "    }\n",
       "\n",
       "    .dataframe tbody tr th {\n",
       "        vertical-align: top;\n",
       "    }\n",
       "\n",
       "    .dataframe thead th {\n",
       "        text-align: right;\n",
       "    }\n",
       "</style>\n",
       "<table border=\"1\" class=\"dataframe\">\n",
       "  <thead>\n",
       "    <tr style=\"text-align: right;\">\n",
       "      <th></th>\n",
       "      <th>textString</th>\n",
       "      <th>embedding</th>\n",
       "    </tr>\n",
       "    <tr>\n",
       "      <th>subject</th>\n",
       "      <th></th>\n",
       "      <th></th>\n",
       "    </tr>\n",
       "  </thead>\n",
       "  <tbody>\n",
       "    <tr>\n",
       "      <th>par0</th>\n",
       "      <td>From: 18084TM@msu.edu (Tom)\\nSubject: Level 5?...</td>\n",
       "      <td>[-0.3665319, -0.14466904, 0.35170555, 0.265233...</td>\n",
       "    </tr>\n",
       "    <tr>\n",
       "      <th>par1</th>\n",
       "      <td>From: dante@shakala.com (Charlie Prael)\\nSubje...</td>\n",
       "      <td>[-0.0123363575, 0.20874111, 0.118544504, 0.255...</td>\n",
       "    </tr>\n",
       "    <tr>\n",
       "      <th>par2</th>\n",
       "      <td>From: henry@zoo.toronto.edu (Henry Spencer)\\nS...</td>\n",
       "      <td>[0.20646484, 0.08387961, 0.008860225, -0.17527...</td>\n",
       "    </tr>\n",
       "    <tr>\n",
       "      <th>par3</th>\n",
       "      <td>From: dbm0000@tm0006.lerc.nasa.gov (David B. M...</td>\n",
       "      <td>[0.08737392, -0.1271832, 0.12903346, 0.3338226...</td>\n",
       "    </tr>\n",
       "    <tr>\n",
       "      <th>par4</th>\n",
       "      <td>From: baalke@kelvin.jpl.nasa.gov (Ron Baalke)\\...</td>\n",
       "      <td>[-0.7950698, -0.1124316, 0.029607521, -0.09579...</td>\n",
       "    </tr>\n",
       "  </tbody>\n",
       "</table>\n",
       "</div>"
      ],
      "text/plain": [
       "                                                textString  \\\n",
       "subject                                                      \n",
       "par0     From: 18084TM@msu.edu (Tom)\\nSubject: Level 5?...   \n",
       "par1     From: dante@shakala.com (Charlie Prael)\\nSubje...   \n",
       "par2     From: henry@zoo.toronto.edu (Henry Spencer)\\nS...   \n",
       "par3     From: dbm0000@tm0006.lerc.nasa.gov (David B. M...   \n",
       "par4     From: baalke@kelvin.jpl.nasa.gov (Ron Baalke)\\...   \n",
       "\n",
       "                                                 embedding  \n",
       "subject                                                     \n",
       "par0     [-0.3665319, -0.14466904, 0.35170555, 0.265233...  \n",
       "par1     [-0.0123363575, 0.20874111, 0.118544504, 0.255...  \n",
       "par2     [0.20646484, 0.08387961, 0.008860225, -0.17527...  \n",
       "par3     [0.08737392, -0.1271832, 0.12903346, 0.3338226...  \n",
       "par4     [-0.7950698, -0.1124316, 0.029607521, -0.09579...  "
      ]
     },
     "execution_count": 9,
     "metadata": {},
     "output_type": "execute_result"
    }
   ],
   "source": [
    "embedding_extraction_bert_pipe = c3.Embedding.Extraction.BertPipe(modelName=\"bert-base-uncased\").withName(\n",
    "    \"DomainEmbeddingExtraction\"\n",
    ")\n",
    "trained_embedding_extraction_bert_pipe = embedding_extraction_bert_pipe.train().result()\n",
    "\n",
    "embeddings_bert_pipe = trained_embedding_extraction_bert_pipe.process(\n",
    "    x=sample_data,\n",
    ").result()\n",
    "\n",
    "embeddings_bert_pipe_df = embeddings_bert_pipe.to_pandas()\n",
    "embeddings_bert_pipe_df.head()"
   ]
  },
  {
   "cell_type": "code",
   "execution_count": 10,
   "id": "6852a5ed-194c-49ab-a5dc-4fbd2a6015b0",
   "metadata": {
    "execution": {
     "iopub.execute_input": "2024-01-02T18:37:20.669606Z",
     "iopub.status.busy": "2024-01-02T18:37:20.669413Z",
     "iopub.status.idle": "2024-01-02T18:37:20.822781Z",
     "shell.execute_reply": "2024-01-02T18:37:20.821989Z",
     "shell.execute_reply.started": "2024-01-02T18:37:20.669589Z"
    },
    "tags": []
   },
   "outputs": [],
   "source": [
    "trained_embedding_extraction_bert_pipe.cleanUp()"
   ]
  }
 ],
 "metadata": {
  "has_local_update": false,
  "is_local": true,
  "is_remote": true,
  "kernelspec": {
   "display_name": "py-embedding",
   "language": "python",
   "name": "py-embedding"
  },
  "language_info": {
   "codemirror_mode": {
    "name": "ipython",
    "version": 3
   },
   "file_extension": ".py",
   "mimetype": "text/x-python",
   "name": "python",
   "nbconvert_exporter": "python",
   "pygments_lexer": "ipython3",
   "version": "3.9.18"
  },
  "last_sync_time": "2024-01-02T17:38:00.665739"
 },
 "nbformat": 4,
 "nbformat_minor": 5
}
